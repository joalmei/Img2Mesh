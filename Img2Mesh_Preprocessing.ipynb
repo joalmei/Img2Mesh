{
  "nbformat": 4,
  "nbformat_minor": 0,
  "metadata": {
    "colab": {
      "name": "Img2Mesh - Preprocessing",
      "provenance": [],
      "collapsed_sections": [],
      "toc_visible": true,
      "include_colab_link": true
    },
    "kernelspec": {
      "name": "python3",
      "display_name": "Python 3"
    },
    "accelerator": "GPU"
  },
  "cells": [
    {
      "cell_type": "markdown",
      "metadata": {
        "id": "view-in-github",
        "colab_type": "text"
      },
      "source": [
        "<a href=\"https://colab.research.google.com/github/jvaaguiar/Img2Mesh/blob/master/Img2Mesh_Preprocessing.ipynb\" target=\"_parent\"><img src=\"https://colab.research.google.com/assets/colab-badge.svg\" alt=\"Open In Colab\"/></a>"
      ]
    },
    {
      "cell_type": "markdown",
      "metadata": {
        "id": "radCqEsLbcvV",
        "colab_type": "text"
      },
      "source": [
        "# [!] Preprocessing config (in / out)"
      ]
    },
    {
      "cell_type": "code",
      "metadata": {
        "colab_type": "code",
        "outputId": "1711abb0-7ccc-4d9e-841b-29883d2efb7d",
        "id": "OsaGcLIhY4vm",
        "colab": {
          "base_uri": "https://localhost:8080/",
          "height": 132
        }
      },
      "source": [
        "from google.colab import drive\n",
        "_ = drive.mount('/content/drive')"
      ],
      "execution_count": 0,
      "outputs": [
        {
          "output_type": "stream",
          "text": [
            "Go to this URL in a browser: https://accounts.google.com/o/oauth2/auth?client_id=947318989803-6bn6qk8qdgf4n4g3pfee6491hc0brc4i.apps.googleusercontent.com&redirect_uri=urn%3aietf%3awg%3aoauth%3a2.0%3aoob&response_type=code&scope=email%20https%3a%2f%2fwww.googleapis.com%2fauth%2fdocs.test%20https%3a%2f%2fwww.googleapis.com%2fauth%2fdrive%20https%3a%2f%2fwww.googleapis.com%2fauth%2fdrive.photos.readonly%20https%3a%2f%2fwww.googleapis.com%2fauth%2fpeopleapi.readonly\n",
            "\n",
            "Enter your authorization code:\n",
            "··········\n",
            "Mounted at /content/drive\n"
          ],
          "name": "stdout"
        }
      ]
    },
    {
      "cell_type": "code",
      "metadata": {
        "id": "iU_I12HBY8Lo",
        "colab_type": "code",
        "outputId": "c3d484b6-1ba4-43ec-cc29-8354b3a5f19b",
        "colab": {
          "base_uri": "https://localhost:8080/",
          "height": 36
        }
      },
      "source": [
        "outroot = '/content/objnet/';\n",
        "!mkdir {outroot}\n",
        "tarsroot = '/content/drive/My Drive/Img2Mesh/dataset/tars/test_new_tars/'"
      ],
      "execution_count": 0,
      "outputs": [
        {
          "output_type": "stream",
          "text": [
            "mkdir: cannot create directory ‘/content/objnet/’: File exists\n"
          ],
          "name": "stdout"
        }
      ]
    },
    {
      "cell_type": "markdown",
      "metadata": {
        "id": "M_CNzJhmtvM0",
        "colab_type": "text"
      },
      "source": [
        "# Requirements"
      ]
    },
    {
      "cell_type": "markdown",
      "metadata": {
        "id": "wILqVrTyXDbt",
        "colab_type": "text"
      },
      "source": [
        "Download and install all softwares and libraries required by the notebook and the git code\n",
        "* pyrender : python library for rendering\n",
        "  * OS Mesa : off-screen rendering software\n",
        "  * pyopengl : python library for openGL \n",
        "* Img2Mesh : project git with preprocessing tools for\n",
        "  * rendering the 6 cameras (top, bottom, left, right, front, back)\n",
        "  * conversion between .off and .obj 3d objects formats\n"
      ]
    },
    {
      "cell_type": "code",
      "metadata": {
        "id": "huJYKgbt07mt",
        "colab_type": "code",
        "colab": {}
      },
      "source": [
        "# Install dependencies - OSMesa, mmatl's fork of PyOpenGL\n",
        "_ = !sudo apt update\n",
        "_ = !sudo wget https://github.com/mmatl/travis_debs/raw/master/xenial/mesa_18.3.3-0.deb\n",
        "_ = !sudo dpkg -i ./mesa_18.3.3-0.deb || true\n",
        "_ = !sudo apt install -f\n",
        "_ = !git clone https://github.com/mmatl/pyopengl.git\n",
        "_ = !pip install ./pyopengl\n",
        "\n",
        "# Install pyrender\n",
        "_ = !pip install pyrender\n",
        "\n",
        "# Get git repo\n",
        "_ = !git clone https://github.com/jvaaguiar/Img2Mesh.git\n",
        "\n",
        "import sys\n",
        "sys.path.append('/content/Img2Mesh')"
      ],
      "execution_count": 0,
      "outputs": []
    },
    {
      "cell_type": "code",
      "metadata": {
        "id": "iyYeU1kBVrNZ",
        "colab_type": "code",
        "colab": {}
      },
      "source": [
        "# file conversions\n",
        "from preprocessing.prereq import read_off, off2obj\n",
        "# camera transformations\n",
        "from preprocessing.prereq import topCamera, bottomCamera, frontCamera\n",
        "from preprocessing.prereq import backCamera, rightCamera, leftCamera\n",
        "# data normalization\n",
        "from preprocessing.prereq import scaleVertices\n",
        "# obj render from camera\n",
        "from preprocessing.prereq import render"
      ],
      "execution_count": 0,
      "outputs": []
    },
    {
      "cell_type": "code",
      "metadata": {
        "id": "2PGkEpcnV-hF",
        "colab_type": "code",
        "colab": {}
      },
      "source": [
        "# remove warings from trimesh library\n",
        "import warnings\n",
        "warnings.filterwarnings(\"ignore\")"
      ],
      "execution_count": 0,
      "outputs": []
    },
    {
      "cell_type": "markdown",
      "metadata": {
        "id": "TKUhw_0GuHLM",
        "colab_type": "text"
      },
      "source": [
        "# Get ModelNet Dataset"
      ]
    },
    {
      "cell_type": "markdown",
      "metadata": {
        "id": "-lWg2KLid-RY",
        "colab_type": "text"
      },
      "source": [
        "This dataset has a collection of 3d objects sorted by class.\n",
        "It is thus used in <b>classification</b>\n",
        "\n",
        "In order to use it for our <b>regression</b> we render their objects in order to build a dataset of {image} -> {3d object}\n",
        "\n",
        "More info: https://modelnet.cs.princeton.edu/"
      ]
    },
    {
      "cell_type": "code",
      "metadata": {
        "id": "p1uuXZWFt19r",
        "colab_type": "code",
        "colab": {}
      },
      "source": [
        "path_modelnet = '\\'/content/drive/Img2Mesh/dataset/modelnet40_manually_aligned.tar\\''\n",
        "inroot = '/content/modelnet'\n",
        "!mkdir {inroot}\n",
        "_ = !tar -xf {path_modelnet} -C '/content/modelnet'\n",
        "\n",
        "# this version of modelnet was downloaded the 4 dec 2019\n",
        "# the modelnet dataset can also be downloaded from its original source with:\n",
        "# _ = !wget --no-check-certificate https://lmb.informatik.uni-freiburg.de/resources/datasets/ORION/modelnet40_manually_aligned.tar"
      ],
      "execution_count": 0,
      "outputs": []
    },
    {
      "cell_type": "code",
      "metadata": {
        "id": "_2GLHDJZXOxT",
        "colab_type": "code",
        "colab": {}
      },
      "source": [
        "folders = !ls -1 {inroot}\n",
        "folders = folders[0:1]\n",
        "print(folders)"
      ],
      "execution_count": 0,
      "outputs": []
    },
    {
      "cell_type": "code",
      "metadata": {
        "colab_type": "code",
        "id": "CE2PV-ao2CMf",
        "colab": {}
      },
      "source": [
        "import os\n",
        "import glob\n",
        "\n",
        "classes = []\n",
        "for f in folders:\n",
        "  test  = glob.glob(os.path.join(inroot + f, 'test/*.off'))\n",
        "  train = glob.glob(os.path.join(inroot + f, 'train/*.off'))\n",
        "  \n",
        "  classes.append({'folder': f, 'train': train, 'test': test});"
      ],
      "execution_count": 0,
      "outputs": []
    },
    {
      "cell_type": "markdown",
      "metadata": {
        "id": "xB_MZfjityB5",
        "colab_type": "text"
      },
      "source": [
        "# Test Render"
      ]
    },
    {
      "cell_type": "code",
      "metadata": {
        "id": "m90Fv9J03dou",
        "colab_type": "code",
        "outputId": "0f6be8f7-06f3-45c4-cb30-d138602bd3fb",
        "colab": {
          "base_uri": "https://localhost:8080/",
          "height": 269
        }
      },
      "source": [
        "import matplotlib.pyplot as plt\n",
        "off = classes[0]['train'][0];\n",
        "obj = off.replace('.off', '.obj');\n",
        "verts, faces = off2obj(off, obj);\n",
        "top = render(obj, topCamera());\n",
        "_ = plt.imshow(top, cmap='gray')"
      ],
      "execution_count": 0,
      "outputs": [
        {
          "output_type": "display_data",
          "data": {
            "image/png": "[encoded data removed]",
            "text/plain": [
              "<Figure size 432x288 with 1 Axes>"
            ]
          },
          "metadata": {
            "tags": []
          }
        }
      ]
    },
    {
      "cell_type": "markdown",
      "metadata": {
        "id": "sOXdalWAXo9X",
        "colab_type": "text"
      },
      "source": [
        "# Prepare Silhouette Dataset"
      ]
    },
    {
      "cell_type": "code",
      "metadata": {
        "id": "nzIoPDZbvG2X",
        "colab_type": "code",
        "colab": {}
      },
      "source": [
        "# render cameras {top, bottom, front, back, right, left} of off objects\n",
        "# infolder : folder of input offs\n",
        "# outfolder : folder of input .npy files with\n",
        "#             - 6 rendered images\n",
        "#             - vertices positions\n",
        "#             - faces list\n",
        "def convertData (infolder, outfolder, offs):\n",
        "  nbdata, prevnb = 0, 0\n",
        "  print(\"%data: \", end='')\n",
        "\n",
        "  for off in offs:\n",
        "    nbdata = nbdata+1\n",
        "    if (int(10*nbdata/len(offs)) > prevnb):\n",
        "      prevnb = int(10*nbdata/len(offs))\n",
        "      print(prevnb, end=', ')\n",
        "\n",
        "    obj = off.replace('.off', '.obj');\n",
        "    offpath = off;\n",
        "    objpath = obj.replace(infolder, outfolder);\n",
        "    \n",
        "    verts, faces = off2obj(offpath, objpath);\n",
        "\n",
        "    top, bottom = render(objpath, topCamera()), render(objpath, bottomCamera())\n",
        "    front, back = render(objpath, frontCamera()), render(objpath, backCamera())\n",
        "    right, left = render(objpath, rightCamera()), render(objpath, leftCamera())\n",
        "\n",
        "    verts = scaleVertices(verts, feature_range=(0, 1))\n",
        "    toSave = {'vertices': verts, 'faces': faces,\n",
        "              'top': top, 'bottom': bottom,\n",
        "              'front': front, 'back': back,\n",
        "              'left': left, 'right': right}\n",
        "\n",
        "    np.save(objpath.replace('.obj', '.npy'), toSave);\n",
        "\n",
        "    !rm {offpath}\n",
        "    !rm {objpath}\n",
        "  !rm -r {infolder}\n",
        "  print('')"
      ],
      "execution_count": 0,
      "outputs": []
    },
    {
      "cell_type": "code",
      "metadata": {
        "id": "YiKsPfU0H3IX",
        "colab_type": "code",
        "outputId": "4b3efeaf-7e6e-4729-ffaf-923153429968",
        "colab": {
          "base_uri": "https://localhost:8080/",
          "height": 468
        }
      },
      "source": [
        "# render all data from the the \n",
        "for category in classes:\n",
        "  print('-> ' + category['folder']);\n",
        "\n",
        "  incat = root + category['folder'];\n",
        "  outcat = outroot + category['folder'];\n",
        "\n",
        "  !mkdir {outcat}\n",
        "\n",
        "  #test data\n",
        "  print(\"#Test:\")\n",
        "  intest  = os.path.join(incat, 'test');\n",
        "  outtest = os.path.join(outcat, 'test');\n",
        "\n",
        "  !mkdir {outtest}\n",
        "\n",
        "  convertData (intest, outtest, category['test']);\n",
        "\n",
        "  #train data\n",
        "  print(\"#Train:\")\n",
        "  intrain  = os.path.join(incat, 'train');\n",
        "  outtrain = os.path.join(outcat, 'train');\n",
        "\n",
        "  !mkdir {outtrain}\n",
        "\n",
        "  convertData (intrain, outtrain, category['train']);\n",
        "\n",
        "  !rm -r {incat}\n",
        "  _ = !(cd {outcat + \"/..\"} && GZIP=-9 tar -czpvf {tarsroot + category['folder'] + \".tar.gz\"} *)"
      ],
      "execution_count": 0,
      "outputs": [
        {
          "output_type": "stream",
          "text": [
            "-> airplane\n",
            "#Test:\n",
            "%data: "
          ],
          "name": "stdout"
        },
        {
          "output_type": "error",
          "ename": "KeyboardInterrupt",
          "evalue": "ignored",
          "traceback": [
            "\u001b[0;31m---------------------------------------------------------------------------\u001b[0m",
            "\u001b[0;31mKeyboardInterrupt\u001b[0m                         Traceback (most recent call last)",
            "\u001b[0;32m<ipython-input-27-d18df944da61>\u001b[0m in \u001b[0;36m<module>\u001b[0;34m()\u001b[0m\n\u001b[1;32m     14\u001b[0m   \u001b[0mget_ipython\u001b[0m\u001b[0;34m(\u001b[0m\u001b[0;34m)\u001b[0m\u001b[0;34m.\u001b[0m\u001b[0msystem\u001b[0m\u001b[0;34m(\u001b[0m\u001b[0;34m'mkdir {outtest}'\u001b[0m\u001b[0;34m)\u001b[0m\u001b[0;34m\u001b[0m\u001b[0;34m\u001b[0m\u001b[0m\n\u001b[1;32m     15\u001b[0m \u001b[0;34m\u001b[0m\u001b[0m\n\u001b[0;32m---> 16\u001b[0;31m   \u001b[0mconvertData\u001b[0m \u001b[0;34m(\u001b[0m\u001b[0mintest\u001b[0m\u001b[0;34m,\u001b[0m \u001b[0mouttest\u001b[0m\u001b[0;34m,\u001b[0m \u001b[0mcategory\u001b[0m\u001b[0;34m[\u001b[0m\u001b[0;34m'test'\u001b[0m\u001b[0;34m]\u001b[0m\u001b[0;34m)\u001b[0m\u001b[0;34m;\u001b[0m\u001b[0;34m\u001b[0m\u001b[0;34m\u001b[0m\u001b[0m\n\u001b[0m\u001b[1;32m     17\u001b[0m \u001b[0;34m\u001b[0m\u001b[0m\n\u001b[1;32m     18\u001b[0m   \u001b[0;31m#train data\u001b[0m\u001b[0;34m\u001b[0m\u001b[0;34m\u001b[0m\u001b[0;34m\u001b[0m\u001b[0m\n",
            "\u001b[0;32m<ipython-input-26-8101054c81c5>\u001b[0m in \u001b[0;36mconvertData\u001b[0;34m(infolder, outfolder, offs)\u001b[0m\n\u001b[1;32m     19\u001b[0m     \u001b[0mright\u001b[0m\u001b[0;34m,\u001b[0m \u001b[0mleft\u001b[0m \u001b[0;34m=\u001b[0m \u001b[0mrender\u001b[0m\u001b[0;34m(\u001b[0m\u001b[0mobjpath\u001b[0m\u001b[0;34m,\u001b[0m \u001b[0mrightCamera\u001b[0m\u001b[0;34m(\u001b[0m\u001b[0;34m)\u001b[0m\u001b[0;34m)\u001b[0m\u001b[0;34m,\u001b[0m \u001b[0mrender\u001b[0m\u001b[0;34m(\u001b[0m\u001b[0mobjpath\u001b[0m\u001b[0;34m,\u001b[0m \u001b[0mleftCamera\u001b[0m\u001b[0;34m(\u001b[0m\u001b[0;34m)\u001b[0m\u001b[0;34m)\u001b[0m\u001b[0;34m\u001b[0m\u001b[0;34m\u001b[0m\u001b[0m\n\u001b[1;32m     20\u001b[0m \u001b[0;34m\u001b[0m\u001b[0m\n\u001b[0;32m---> 21\u001b[0;31m     \u001b[0mverts\u001b[0m \u001b[0;34m=\u001b[0m \u001b[0mscaleVertices\u001b[0m\u001b[0;34m(\u001b[0m\u001b[0mverts\u001b[0m\u001b[0;34m,\u001b[0m \u001b[0mfeature_range\u001b[0m\u001b[0;34m=\u001b[0m\u001b[0;34m(\u001b[0m\u001b[0;36m0\u001b[0m\u001b[0;34m,\u001b[0m \u001b[0;36m1\u001b[0m\u001b[0;34m)\u001b[0m\u001b[0;34m)\u001b[0m\u001b[0;34m\u001b[0m\u001b[0;34m\u001b[0m\u001b[0m\n\u001b[0m\u001b[1;32m     22\u001b[0m     toSave = {'vertices': verts, 'faces': faces,\n\u001b[1;32m     23\u001b[0m               \u001b[0;34m'top'\u001b[0m\u001b[0;34m:\u001b[0m \u001b[0mtop\u001b[0m\u001b[0;34m,\u001b[0m \u001b[0;34m'bottom'\u001b[0m\u001b[0;34m:\u001b[0m \u001b[0mbottom\u001b[0m\u001b[0;34m,\u001b[0m\u001b[0;34m\u001b[0m\u001b[0;34m\u001b[0m\u001b[0m\n",
            "\u001b[0;32m/content/Img2Mesh/preprocessing/prereq.py\u001b[0m in \u001b[0;36mscaleVertices\u001b[0;34m(vertices, feature_range)\u001b[0m\n\u001b[1;32m    109\u001b[0m   \u001b[0;32mfor\u001b[0m \u001b[0mi\u001b[0m \u001b[0;32min\u001b[0m \u001b[0mrange\u001b[0m\u001b[0;34m(\u001b[0m\u001b[0mlen\u001b[0m\u001b[0;34m(\u001b[0m\u001b[0mvertices\u001b[0m\u001b[0;34m)\u001b[0m\u001b[0;34m)\u001b[0m\u001b[0;34m:\u001b[0m\u001b[0;34m\u001b[0m\u001b[0;34m\u001b[0m\u001b[0m\n\u001b[1;32m    110\u001b[0m     \u001b[0;31m#ratio = (vertices[i] - min) / scale + (1 - (max - min)/scale)/2;\u001b[0m\u001b[0;34m\u001b[0m\u001b[0;34m\u001b[0m\u001b[0;34m\u001b[0m\u001b[0m\n\u001b[0;32m--> 111\u001b[0;31m     \u001b[0mratio\u001b[0m \u001b[0;34m=\u001b[0m \u001b[0;34m(\u001b[0m\u001b[0;36m2\u001b[0m \u001b[0;34m*\u001b[0m \u001b[0mvertices\u001b[0m\u001b[0;34m[\u001b[0m\u001b[0mi\u001b[0m\u001b[0;34m]\u001b[0m \u001b[0;34m-\u001b[0m \u001b[0;34m(\u001b[0m\u001b[0mmax\u001b[0m \u001b[0;34m+\u001b[0m \u001b[0mmin\u001b[0m\u001b[0;34m)\u001b[0m \u001b[0;34m+\u001b[0m \u001b[0mscale\u001b[0m\u001b[0;34m)\u001b[0m \u001b[0;34m/\u001b[0m \u001b[0;34m(\u001b[0m\u001b[0;36m2\u001b[0m \u001b[0;34m*\u001b[0m \u001b[0mscale\u001b[0m\u001b[0;34m)\u001b[0m\u001b[0;34m;\u001b[0m\u001b[0;34m\u001b[0m\u001b[0;34m\u001b[0m\u001b[0m\n\u001b[0m\u001b[1;32m    112\u001b[0m     \u001b[0mvertices\u001b[0m\u001b[0;34m[\u001b[0m\u001b[0mi\u001b[0m\u001b[0;34m]\u001b[0m \u001b[0;34m=\u001b[0m \u001b[0mfeature_range\u001b[0m\u001b[0;34m[\u001b[0m\u001b[0;36m1\u001b[0m\u001b[0;34m]\u001b[0m \u001b[0;34m*\u001b[0m \u001b[0mratio\u001b[0m \u001b[0;34m+\u001b[0m \u001b[0mfeature_range\u001b[0m\u001b[0;34m[\u001b[0m\u001b[0;36m0\u001b[0m\u001b[0;34m]\u001b[0m \u001b[0;34m*\u001b[0m \u001b[0;34m(\u001b[0m\u001b[0;36m1\u001b[0m \u001b[0;34m-\u001b[0m \u001b[0mratio\u001b[0m\u001b[0;34m)\u001b[0m\u001b[0;34m;\u001b[0m\u001b[0;34m\u001b[0m\u001b[0;34m\u001b[0m\u001b[0m\n\u001b[1;32m    113\u001b[0m \u001b[0;34m\u001b[0m\u001b[0m\n",
            "\u001b[0;31mKeyboardInterrupt\u001b[0m: "
          ]
        }
      ]
    }
  ]
}