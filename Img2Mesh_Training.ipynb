{
  "nbformat": 4,
  "nbformat_minor": 0,
  "metadata": {
    "colab": {
      "name": "Img2Mesh - Training",
      "provenance": [],
      "collapsed_sections": [
        "rxxKIOrn1ddj"
      ],
      "toc_visible": true,
      "machine_shape": "hm",
      "include_colab_link": true
    },
    "kernelspec": {
      "name": "python3",
      "display_name": "Python 3"
    },
    "accelerator": "GPU"
  },
  "cells": [
    {
      "cell_type": "markdown",
      "metadata": {
        "id": "view-in-github",
        "colab_type": "text"
      },
      "source": [
        "<a href=\"https://colab.research.google.com/github/jvaaguiar/Img2Mesh/blob/master/Img2Mesh_Training.ipynb\" target=\"_parent\"><img src=\"https://colab.research.google.com/assets/colab-badge.svg\" alt=\"Open In Colab\"/></a>"
      ]
    },
    {
      "cell_type": "markdown",
      "metadata": {
        "id": "BqwsVcNo1G8u",
        "colab_type": "text"
      },
      "source": [
        "#[!] Training config (in/out)"
      ]
    },
    {
      "cell_type": "code",
      "metadata": {
        "id": "qBAiIWwfUI_n",
        "colab_type": "code",
        "outputId": "9cca9052-2ce5-4c57-e2c2-efd242ed4033",
        "colab": {
          "base_uri": "https://localhost:8080/",
          "height": 132
        }
      },
      "source": [
        "from google.colab import drive\n",
        "_ = drive.mount('/content/drive')"
      ],
      "execution_count": 0,
      "outputs": [
        {
          "output_type": "stream",
          "text": [
            "Go to this URL in a browser: https://accounts.google.com/o/oauth2/auth?client_id=947318989803-6bn6qk8qdgf4n4g3pfee6491hc0brc4i.apps.googleusercontent.com&redirect_uri=urn%3aietf%3awg%3aoauth%3a2.0%3aoob&response_type=code&scope=email%20https%3a%2f%2fwww.googleapis.com%2fauth%2fdocs.test%20https%3a%2f%2fwww.googleapis.com%2fauth%2fdrive%20https%3a%2f%2fwww.googleapis.com%2fauth%2fdrive.photos.readonly%20https%3a%2f%2fwww.googleapis.com%2fauth%2fpeopleapi.readonly\n",
            "\n",
            "Enter your authorization code:\n",
            "··········\n",
            "Mounted at /content/drive\n"
          ],
          "name": "stdout"
        }
      ]
    },
    {
      "cell_type": "code",
      "metadata": {
        "id": "7EhvXJ5N0jhv",
        "colab_type": "code",
        "colab": {}
      },
      "source": [
        "tarpath  = '/content/drive/\\'My Drive\\'/Img2Mesh/dataset/tars/'"
      ],
      "execution_count": 0,
      "outputs": []
    },
    {
      "cell_type": "code",
      "metadata": {
        "id": "nAR2MLW74Y0f",
        "colab_type": "code",
        "colab": {}
      },
      "source": [
        "# path to save checkpoints during the training\n",
        "path_checkpoints_save = '/content/drive/\\'My Drive\\'/Img2Mesh/checkpoints/'\n",
        "\n",
        "out_vertices = 62\n",
        "hidden_size = 4096"
      ],
      "execution_count": 0,
      "outputs": []
    },
    {
      "cell_type": "markdown",
      "metadata": {
        "id": "PcOplJyqUP2-",
        "colab_type": "text"
      },
      "source": [
        "# Requirements"
      ]
    },
    {
      "cell_type": "code",
      "metadata": {
        "id": "BVP1SQWcyRhz",
        "colab_type": "code",
        "outputId": "8fcf721b-c090-4e0c-f734-53ec81d790ff",
        "colab": {
          "base_uri": "https://localhost:8080/",
          "height": 36
        }
      },
      "source": [
        "from __future__ import absolute_import, division, print_function, unicode_literals\n",
        "try:\n",
        "  %tensorflow_version 2.x\n",
        "except Exception:\n",
        "  pass"
      ],
      "execution_count": 0,
      "outputs": [
        {
          "output_type": "stream",
          "text": [
            "TensorFlow 2.x selected.\n"
          ],
          "name": "stdout"
        }
      ]
    },
    {
      "cell_type": "code",
      "metadata": {
        "id": "uYkroBOr1xAY",
        "colab_type": "code",
        "colab": {}
      },
      "source": [
        "_ = !git clone https://github.com/jvaaguiar/Img2Mesh.git\n",
        "import sys\n",
        "sys.path.append('/content/Img2Mesh')"
      ],
      "execution_count": 0,
      "outputs": []
    },
    {
      "cell_type": "markdown",
      "metadata": {
        "id": "6G6Ce-mBVSLT",
        "colab_type": "text"
      },
      "source": [
        "# Prepare Dataset"
      ]
    },
    {
      "cell_type": "markdown",
      "metadata": {
        "id": "Ao5vHBpI1ayy",
        "colab_type": "text"
      },
      "source": [
        "## Fetch data"
      ]
    },
    {
      "cell_type": "code",
      "metadata": {
        "colab_type": "code",
        "id": "zLoLVVxabqJO",
        "colab": {}
      },
      "source": [
        "datapath = \"/content/Img2Mesh/data\"\n",
        "!mkdir {datapath}\n",
        "\n",
        "tars = !ls -1 {tarpath}\n",
        "for tar in tars:\n",
        "  !tar -xf {tarpath + tar} -C {datapath}"
      ],
      "execution_count": 0,
      "outputs": []
    },
    {
      "cell_type": "code",
      "metadata": {
        "id": "IDe-HpCvyzUb",
        "colab_type": "code",
        "colab": {}
      },
      "source": [
        "paths = []\n",
        "for t in tars:\n",
        "  paths.append(datapath + '/' + t.replace('.tar.gz', '/train'))"
      ],
      "execution_count": 0,
      "outputs": []
    },
    {
      "cell_type": "code",
      "metadata": {
        "id": "RGnBnlEXiyNW",
        "colab_type": "code",
        "outputId": "8bdd1b35-5d0e-426c-8939-354c87e40f58",
        "colab": {
          "base_uri": "https://localhost:8080/",
          "height": 36
        }
      },
      "source": [
        "from train import prepareTrainData\n",
        "X, Y = prepareTrainData(paths, ratio=1, shape='2D', lean=True)\n",
        "print(X.shape)"
      ],
      "execution_count": 0,
      "outputs": [
        {
          "output_type": "stream",
          "text": [
            "(2588, 1, 400, 400)\n"
          ],
          "name": "stdout"
        }
      ]
    },
    {
      "cell_type": "markdown",
      "metadata": {
        "id": "rxxKIOrn1ddj",
        "colab_type": "text"
      },
      "source": [
        "## Verify models sizes in Y"
      ]
    },
    {
      "cell_type": "code",
      "metadata": {
        "id": "masDVzX89NUE",
        "colab_type": "code",
        "outputId": "d4020151-c870-4c48-a30a-0b132977fefd",
        "colab": {
          "base_uri": "https://localhost:8080/",
          "height": 513
        }
      },
      "source": [
        "import matplotlib.pyplot as plt\n",
        "import numpy as np\n",
        "sizes = [y.shape[0] for y in Y]\n",
        "sizes = np.array(sizes)\n",
        "_ = plt.hist(sizes, bins=int(1e2))\n",
        "plt.show()\n",
        "_ = plt.hist(sizes[sizes < 1e4], bins=int(1e2))"
      ],
      "execution_count": 0,
      "outputs": [
        {
          "output_type": "display_data",
          "data": {
            "image/png": "[encoded data removed]",
            "text/plain": [
              "<Figure size 432x288 with 1 Axes>"
            ]
          },
          "metadata": {
            "tags": []
          }
        },
        {
          "output_type": "display_data",
          "data": {
            "image/png": "[encoded data removed]",
            "text/plain": [
              "<Figure size 432x288 with 1 Axes>"
            ]
          },
          "metadata": {
            "tags": []
          }
        }
      ]
    },
    {
      "cell_type": "markdown",
      "metadata": {
        "id": "KdweAUIQ2IO5",
        "colab_type": "text"
      },
      "source": [
        "## Downsample Y"
      ]
    },
    {
      "cell_type": "code",
      "metadata": {
        "id": "4nCM5qQDujfg",
        "colab_type": "code",
        "colab": {}
      },
      "source": [
        "from prepare_data import downsample\n",
        "Y = downsample(Y, k=int(0.5e3))"
      ],
      "execution_count": 0,
      "outputs": []
    },
    {
      "cell_type": "markdown",
      "metadata": {
        "id": "Ktra20uj8z2p",
        "colab_type": "text"
      },
      "source": [
        "# Train"
      ]
    },
    {
      "cell_type": "code",
      "metadata": {
        "id": "qxlFtcJng0Qa",
        "colab_type": "code",
        "colab": {}
      },
      "source": [
        "# save the model's weights at the end of each batch\n",
        "\n",
        "drive_chks = path_checkpoints_save + 'checkpoint.zip'\n",
        "model_chks = '/content/Img2Mesh/checkpoints/'\n",
        "!mkdir /content/Img2Mesh/checkpoints/\n",
        "\n",
        "def download(path):\n",
        "  _ = !zip -r {drive_chks} {path}"
      ],
      "execution_count": 0,
      "outputs": []
    },
    {
      "cell_type": "code",
      "metadata": {
        "id": "OtbjDeWPpLei",
        "colab_type": "code",
        "outputId": "63ff8c67-b108-4451-e706-ceb361a60983",
        "colab": {
          "base_uri": "https://localhost:8080/",
          "height": 740
        }
      },
      "source": [
        "from train import saveCheckpoint\n",
        "from train import runTraining, prepareNN\n",
        "\n",
        "net, optim = prepareNN(out_verts  = out_vertices,\n",
        "                       hidden_size= hidden_size,\n",
        "                       model='lean',\n",
        "                       learning_rate=0.001)\n",
        "\n",
        "losses = runTraining(optim, X, Y, batch_size=int(0.05*len(X)),\n",
        "                      min_error=1e-3, min_step=1e-5,\n",
        "                      max_repets=10,\n",
        "                      num_epochs=20,\n",
        "                      checkpoint_callback=saveCheckpoint(\n",
        "                          path = '/content/Img2Mesh/checkpoints/',\n",
        "                          download_callback=download))"
      ],
      "execution_count": 0,
      "outputs": [
        {
          "output_type": "stream",
          "text": [
            "========================================================================\n",
            "batches: ..........  epoch :  0  ; loss =  0.07146495580673218  ( 15.106409072875977 secs)\n",
            "batches: ..........  epoch :  1  ; loss =  0.017626378685235977  ( 10.857516050338745 secs)\n",
            "batches: ..........  epoch :  2  ; loss =  0.013437598943710327  ( 11.092088460922241 secs)\n",
            "batches: ..........  epoch :  3  ; loss =  0.01037460658699274  ( 11.002386808395386 secs)\n",
            "batches: ..........  epoch :  4  ; loss =  0.009556390345096588  ( 10.805459022521973 secs)\n",
            "batches: ..........  epoch :  5  ; loss =  0.008677368052303791  ( 11.100551843643188 secs)\n",
            "batches: ..........  epoch :  6  ; loss =  0.008175943978130817  ( 10.990192413330078 secs)\n",
            "batches: ..........  epoch :  7  ; loss =  0.007893355563282967  ( 11.17909836769104 secs)\n",
            "batches: ..........  epoch :  8  ; loss =  0.007513360120356083  ( 11.076272010803223 secs)\n",
            "batches: ..........  epoch :  9  ; loss =  0.007318916730582714  ( 10.832780361175537 secs)\n",
            "batches: ..........  epoch :  10  ; loss =  0.006969710346311331  ( 11.776907444000244 secs)\n",
            "batches: ..........  epoch :  11  ; loss =  0.0068322429433465  ( 10.658610582351685 secs)\n",
            "batches: ..........  epoch :  12  ; loss =  0.007386520504951477  ( 11.186086893081665 secs)\n",
            "batches: ..........  epoch :  13  ; loss =  0.0064396969974040985  ( 10.961296796798706 secs)\n",
            "batches: ..........  epoch :  14  ; loss =  0.006303391419351101  ( 11.047576904296875 secs)\n",
            "batches: ..........  epoch :  15  ; loss =  0.006063041277229786  ( 10.67107367515564 secs)\n",
            "batches: ..........  epoch :  16  ; loss =  0.005945537704974413  ( 10.942089319229126 secs)\n",
            "batches: ..........  epoch :  17  ; loss =  0.006147351115942001  ( 10.569766998291016 secs)\n",
            "batches: ..........  epoch :  18  ; loss =  0.0060902428813278675  ( 10.700580835342407 secs)\n",
            "batches: ..........  epoch :  19  ; loss =  0.005753254052251577  ( 10.744075536727905 secs)\n"
          ],
          "name": "stdout"
        },
        {
          "output_type": "display_data",
          "data": {
            "image/png": "[encoded data removed]",
            "text/plain": [
              "<Figure size 432x288 with 1 Axes>"
            ]
          },
          "metadata": {
            "tags": []
          }
        },
        {
          "output_type": "stream",
          "text": [
            "========================================================================\n",
            "batches: ..........  epoch :  0  ; loss =  0.005819604732096195  ( 11.554772853851318 secs)\n",
            "batches: ..........  epoch :  1  ; loss =  0.005693652201443911  ( 10.832734107971191 secs)\n",
            "batches: ....."
          ],
          "name": "stdout"
        }
      ]
    },
    {
      "cell_type": "code",
      "metadata": {
        "id": "hfNS5wu8jCCW",
        "colab_type": "code",
        "colab": {}
      },
      "source": [
        "# the trainning can be continued using another learning rate!\n",
        "from optimizer import Optimizer\n",
        "optim = Optimizer(model=net,\n",
        "                  learning_rate=0.0005)\n",
        "\n",
        "losses = runTraining(optim, X, Y, batch_size=int(0.05*len(X)),\n",
        "                      min_error=1e-3, min_step=1e-5,\n",
        "                      max_repets=5,\n",
        "                      num_epochs=20,\n",
        "                      checkpoint_callback=saveCheckpoint(\n",
        "                          path = '/content/Img2Mesh/checkpoints/',\n",
        "                          download_callback=download))"
      ],
      "execution_count": 0,
      "outputs": []
    },
    {
      "cell_type": "code",
      "metadata": {
        "id": "MfWo2lad_0sA",
        "colab_type": "code",
        "colab": {}
      },
      "source": [
        "# test the network for an example from the training set\n",
        "import matplotlib.pyplot as plt\n",
        "id = 100\n",
        "y_ = net(X[id:id+1])\n",
        "fig, axs = plt.subplots(3, 2, sharex=True, sharey=True, figsize=(8,12))\n",
        "axs[0, 0].set_xlim(0, 1), axs[0, 0].set_ylim(0, 1)\n",
        "\n",
        "_ = axs[0, 0].scatter(y_[0][:,0],    y_[0][:,2],    c=y_[0][:,1])\n",
        "_ = axs[0, 1].scatter(Y[id][:,0],    Y[id][:,2],    c=Y[id][:,1])\n",
        "_ = axs[1, 0].scatter(y_[0][:,1],    y_[0][:,2],    c=y_[0][:,0])\n",
        "_ = axs[1, 1].scatter(Y[id][:,1],    Y[id][:,2],    c=Y[id][:,0])\n",
        "_ = axs[2, 0].scatter(y_[0][:,0],    y_[0][:,1],    c=y_[0][:,2])\n",
        "_ = axs[2, 1].scatter(Y[id][:,0],    Y[id][:,1],    c=Y[id][:,2])"
      ],
      "execution_count": 0,
      "outputs": []
    }
  ]
}