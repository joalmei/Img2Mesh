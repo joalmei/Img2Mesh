{
  "nbformat": 4,
  "nbformat_minor": 0,
  "metadata": {
    "colab": {
      "name": "Img2Mesh - Training (Normal Loss)",
      "provenance": [],
      "collapsed_sections": [],
      "toc_visible": true,
      "machine_shape": "hm",
      "include_colab_link": true
    },
    "kernelspec": {
      "name": "python3",
      "display_name": "Python 3"
    },
    "accelerator": "GPU"
  },
  "cells": [
    {
      "cell_type": "markdown",
      "metadata": {
        "id": "view-in-github",
        "colab_type": "text"
      },
      "source": [
        "<a href=\"https://colab.research.google.com/github/jvaaguiar/Img2Mesh/blob/master/Img2Mesh_Training_(Normal_Loss).ipynb\" target=\"_parent\"><img src=\"https://colab.research.google.com/assets/colab-badge.svg\" alt=\"Open In Colab\"/></a>"
      ]
    },
    {
      "cell_type": "markdown",
      "metadata": {
        "id": "BqwsVcNo1G8u",
        "colab_type": "text"
      },
      "source": [
        "#[!] Training config (in/out)"
      ]
    },
    {
      "cell_type": "code",
      "metadata": {
        "id": "qBAiIWwfUI_n",
        "colab_type": "code",
        "colab": {}
      },
      "source": [
        "from google.colab import drive\n",
        "_ = drive.mount('/content/drive')"
      ],
      "execution_count": 0,
      "outputs": []
    },
    {
      "cell_type": "code",
      "metadata": {
        "id": "7EhvXJ5N0jhv",
        "colab_type": "code",
        "colab": {}
      },
      "source": [
        "tarpath  = '/content/drive/\\'My Drive\\'/Img2Mesh/dataset/tars/'"
      ],
      "execution_count": 0,
      "outputs": []
    },
    {
      "cell_type": "code",
      "metadata": {
        "id": "nAR2MLW74Y0f",
        "colab_type": "code",
        "colab": {}
      },
      "source": [
        "# path to save checkpoints during the training\n",
        "path_checkpoints_save = '/content/drive/\\'My Drive\\'/Img2Mesh/checkpoints/'\n",
        "checkpoint_zip_name = 'checkpoint_normal.zip'\n",
        "\n",
        "mapping_mesh = '/content/Img2Mesh/models/ico_162.obj'\n",
        "out_vertices = 162 # number of outputs must match the mapping mesh\n",
        "hidden_size = 4096"
      ],
      "execution_count": 0,
      "outputs": []
    },
    {
      "cell_type": "markdown",
      "metadata": {
        "id": "PcOplJyqUP2-",
        "colab_type": "text"
      },
      "source": [
        "# Requirements"
      ]
    },
    {
      "cell_type": "code",
      "metadata": {
        "id": "BVP1SQWcyRhz",
        "colab_type": "code",
        "colab": {}
      },
      "source": [
        "from __future__ import absolute_import, division, print_function, unicode_literals\n",
        "try:\n",
        "  %tensorflow_version 2.x\n",
        "except Exception:\n",
        "  pass"
      ],
      "execution_count": 0,
      "outputs": []
    },
    {
      "cell_type": "code",
      "metadata": {
        "id": "uYkroBOr1xAY",
        "colab_type": "code",
        "colab": {}
      },
      "source": [
        "_ = !git clone https://github.com/jvaaguiar/Img2Mesh.git\n",
        "import sys\n",
        "sys.path.append('/content/Img2Mesh')"
      ],
      "execution_count": 0,
      "outputs": []
    },
    {
      "cell_type": "markdown",
      "metadata": {
        "id": "6G6Ce-mBVSLT",
        "colab_type": "text"
      },
      "source": [
        "# Prepare Dataset"
      ]
    },
    {
      "cell_type": "markdown",
      "metadata": {
        "id": "Ao5vHBpI1ayy",
        "colab_type": "text"
      },
      "source": [
        "## Fetch data"
      ]
    },
    {
      "cell_type": "code",
      "metadata": {
        "colab_type": "code",
        "id": "zLoLVVxabqJO",
        "colab": {}
      },
      "source": [
        "datapath = \"/content/Img2Mesh/data\"\n",
        "!mkdir {datapath}\n",
        "\n",
        "tars = !ls -1 {tarpath}\n",
        "for tar in tars:\n",
        "  !tar -xf {tarpath + tar} -C {datapath}"
      ],
      "execution_count": 0,
      "outputs": []
    },
    {
      "cell_type": "code",
      "metadata": {
        "id": "IDe-HpCvyzUb",
        "colab_type": "code",
        "colab": {}
      },
      "source": [
        "paths = []\n",
        "for t in tars:\n",
        "  paths.append(datapath + '/' + t.replace('.tar.gz', '/train'))"
      ],
      "execution_count": 0,
      "outputs": []
    },
    {
      "cell_type": "code",
      "metadata": {
        "id": "RGnBnlEXiyNW",
        "colab_type": "code",
        "colab": {}
      },
      "source": [
        "from train_mesh import prepareTrainData\n",
        "X, Y, faces = prepareTrainData(paths, ratio=1)\n",
        "print(X.shape)"
      ],
      "execution_count": 0,
      "outputs": []
    },
    {
      "cell_type": "markdown",
      "metadata": {
        "id": "rxxKIOrn1ddj",
        "colab_type": "text"
      },
      "source": [
        "## Verify models sizes in Y"
      ]
    },
    {
      "cell_type": "code",
      "metadata": {
        "id": "masDVzX89NUE",
        "colab_type": "code",
        "colab": {}
      },
      "source": [
        "import matplotlib.pyplot as plt\n",
        "import numpy as np\n",
        "sizes = [y.shape[0] for y in Y]\n",
        "sizes = np.array(sizes)\n",
        "_ = plt.hist(sizes, bins=int(1e2))\n",
        "plt.show()\n",
        "_ = plt.hist(sizes[sizes < 1e4], bins=int(1e2))"
      ],
      "execution_count": 0,
      "outputs": []
    },
    {
      "cell_type": "markdown",
      "metadata": {
        "id": "KdweAUIQ2IO5",
        "colab_type": "text"
      },
      "source": [
        "## Downsample Y"
      ]
    },
    {
      "cell_type": "code",
      "metadata": {
        "id": "4nCM5qQDujfg",
        "colab_type": "code",
        "colab": {}
      },
      "source": [
        "from prepare_data import downsample\n",
        "y, y_normals = downsample(Y, k=int(0.5e3), get_normals=True, faces=faces)"
      ],
      "execution_count": 0,
      "outputs": []
    },
    {
      "cell_type": "markdown",
      "metadata": {
        "id": "Ktra20uj8z2p",
        "colab_type": "text"
      },
      "source": [
        "# Train"
      ]
    },
    {
      "cell_type": "code",
      "metadata": {
        "id": "qxlFtcJng0Qa",
        "colab_type": "code",
        "colab": {}
      },
      "source": [
        "# save the model's weights at the end of each batch\n",
        "drive_chks = path_checkpoints_save + checkpoint_zip_name\n",
        "model_chks = '/content/Img2Mesh/checkpoints/'\n",
        "!mkdir /content/Img2Mesh/checkpoints/\n",
        "\n",
        "def download(path):\n",
        "  _ = !zip -r {drive_chks} {path}"
      ],
      "execution_count": 0,
      "outputs": []
    },
    {
      "cell_type": "code",
      "metadata": {
        "id": "OtbjDeWPpLei",
        "colab_type": "code",
        "colab": {}
      },
      "source": [
        "from train_mesh import saveCheckpoint\n",
        "from train_mesh import runTraining, prepareNN\n",
        "\n",
        "\n",
        "net, optim = prepareNN(out_verts = out_vertices,\n",
        "                       hidden_size = hidden_size,\n",
        "                       learning_rate=1e-4,\n",
        "                       targ_obj_path = mapping_mesh,\n",
        "                       norm_weight=0.9)\n",
        "\n",
        "losses = runTraining(optim, X, y, y_normals,\n",
        "                     batch_size=int(0.05*len(X)),\n",
        "                     min_error=1e-3, min_step=1e-5,\n",
        "                     max_repets=5,\n",
        "                     num_epochs=20,\n",
        "                     checkpoint_callback=saveCheckpoint(\n",
        "                          path = '/content/Img2Mesh/checkpoints/',\n",
        "                          download_callback=download))"
      ],
      "execution_count": 0,
      "outputs": []
    },
    {
      "cell_type": "code",
      "metadata": {
        "id": "hfNS5wu8jCCW",
        "colab_type": "code",
        "colab": {}
      },
      "source": [
        "# the trainning can be continued as many times as necessary running this cell\n",
        "losses = runTraining(optim, X, y, y_normals,\n",
        "                     batch_size=int(0.05*len(X)),\n",
        "                     min_error=1e-3, min_step=1e-5,\n",
        "                     max_repets=5,\n",
        "                     num_epochs=20,\n",
        "                     checkpoint_callback=saveCheckpoint(\n",
        "                          path = '/content/Img2Mesh/checkpoints/check',\n",
        "                          download_callback=download))"
      ],
      "execution_count": 0,
      "outputs": []
    },
    {
      "cell_type": "code",
      "metadata": {
        "id": "MfWo2lad_0sA",
        "colab_type": "code",
        "colab": {}
      },
      "source": [
        "# test the network for an example from the training set\n",
        "import matplotlib.pyplot as plt\n",
        "id = 100\n",
        "y_ = net(X[id:id+1])\n",
        "fig, axs = plt.subplots(3, 2, sharex=True, sharey=True, figsize=(8,12))\n",
        "axs[0, 0].set_xlim(0, 1), axs[0, 0].set_ylim(0, 1)\n",
        "\n",
        "_ = axs[0, 0].scatter(y_[0][:,0],    y_[0][:,2],    c=y_[0][:,1])\n",
        "_ = axs[0, 1].scatter(Y[id][:,0],    Y[id][:,2],    c=Y[id][:,1])\n",
        "_ = axs[1, 0].scatter(y_[0][:,1],    y_[0][:,2],    c=y_[0][:,0])\n",
        "_ = axs[1, 1].scatter(Y[id][:,1],    Y[id][:,2],    c=Y[id][:,0])\n",
        "_ = axs[2, 0].scatter(y_[0][:,0],    y_[0][:,1],    c=y_[0][:,2])\n",
        "_ = axs[2, 1].scatter(Y[id][:,0],    Y[id][:,1],    c=Y[id][:,2])"
      ],
      "execution_count": 0,
      "outputs": []
    }
  ]
}